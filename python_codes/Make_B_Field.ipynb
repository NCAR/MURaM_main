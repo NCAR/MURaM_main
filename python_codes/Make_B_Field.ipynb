{
 "cells": [
  {
   "cell_type": "code",
   "execution_count": 1,
   "metadata": {},
   "outputs": [
    {
     "name": "stdout",
     "output_type": "stream",
     "text": [
      "Importing read_muram.py\n",
      "Importing dp_plot_tools.py\n",
      "Importing muram_eos.py\n"
     ]
    }
   ],
   "source": [
    "import read_muram as rmu\n",
    "import dp_plot_tools as dplt\n",
    "import muram_eos as eos\n",
    "import numpy as np"
   ]
  },
  {
   "cell_type": "code",
   "execution_count": 2,
   "metadata": {},
   "outputs": [],
   "source": [
    "## Load the EOS file\n",
    "eos_file = \"../RUNDIR/Uppsala_mergedeos_PI_A.dat\"\n",
    "mu_eos=eos.mu_eos(eos_file)"
   ]
  },
  {
   "cell_type": "code",
   "execution_count": 6,
   "metadata": {},
   "outputs": [],
   "source": [
    "## Set the simulation size and range\n",
    "## Nz = vertical direction (dimension 0 in MURaM)\n",
    "## Nx = first horizontal direction (set = 1 for 1D)\n",
    "## Ny = second horizontal direection (set = 1 for 2D or 1D)\n",
    "\n",
    "Nz = 400\n",
    "Nx = 400\n",
    "Ny = 400\n",
    "\n",
    "## Output Directory\n",
    "\n",
    "out_dir = \"/scratch/przybylski/2D_SCATTER_TESTS/checkerboard/\"\n",
    "\n",
    "## Iteration Number to be output \n",
    "\n",
    "iter = 39000\n",
    "\n",
    "inv4pi = 1.0/np.sqrt(4.0*np.pi)"
   ]
  },
  {
   "cell_type": "code",
   "execution_count": 7,
   "metadata": {},
   "outputs": [
    {
     "name": "stdout",
     "output_type": "stream",
     "text": [
      "0.0\n"
     ]
    },
    {
     "data": {
      "image/png": "[encoded data removed]",
      "text/plain": [
       "<matplotlib.figure.Figure at 0x2b17e158e1d0>"
      ]
     },
     "metadata": {},
     "output_type": "display_data"
    }
   ],
   "source": [
    "## Checkerboard\n",
    "\n",
    "## Out array - backwards because that is the way numpy writes and we have (z,x,y)\n",
    "bz = np.zeros([Ny,Nx,1])\n",
    "## Field Strength of each checker\n",
    "field_strength = 5.0\n",
    "\n",
    "## Number of Checkers Identical in x/y or can be varied\n",
    "\n",
    "checkersx = 2\n",
    "checkersy = checkersx\n",
    "\n",
    "## if 2D\n",
    "if Ny == 1:\n",
    "    checkersy=1\n",
    "\n",
    "for i in range(checkersx):\n",
    "    for j in range(checkersy):\n",
    "        bz[j*Ny//checkersy:(j+1)*Ny//checkersy,i*Nx//checkersx:(i+1)*Nx//checkersx,0] += np.power(-1,i)*np.power(-1,j)*field_strength\n",
    "\n",
    "## Plot\n",
    "if Ny > 1:\n",
    "    dplt.plt.imshow(bz[:,:,0])\n",
    "    dplt.plt.colorbar()\n",
    "else:\n",
    "    dplt.plt.plot(bz[0,:,0])\n",
    "\n",
    "## And FInally save\n",
    "(np.tile(bz*inv4pi,(1,1,Nz)).ravel().astype(np.single)).tofile(out_dir+'3D/result_prim_5.' + str(iter).zfill(6))\n",
    "\n",
    "print(bz[:,:].mean())"
   ]
  },
  {
   "cell_type": "code",
   "execution_count": 8,
   "metadata": {},
   "outputs": [
    {
     "name": "stdout",
     "output_type": "stream",
     "text": [
      "0.008\n"
     ]
    },
    {
     "data": {
      "image/png": "[encoded data removed]",
      "text/plain": [
       "<matplotlib.figure.Figure at 0x2b17dc3c4d68>"
      ]
     },
     "metadata": {},
     "output_type": "display_data"
    }
   ],
   "source": [
    "## Nested Checkerboard\n",
    "\n",
    "## Out array - backwards because that is the way numpy writes and we have (z,x,y)\n",
    "bz = np.zeros([Ny,Nx,1])\n",
    "## Field Strength of each checker\n",
    "field_strength = 5.0\n",
    "## Max checkers, either floor(log2(Nx)), or set to a value of your choosing\n",
    "maxcheckers = np.int(np.floor(np.log2(max(Nx,Ny))))\n",
    "## maxcheckers = 5\n",
    "\n",
    "for nn in range(1,maxcheckers):\n",
    "    ## Number of checkers\n",
    "    checkers=2**nn\n",
    "    \n",
    "    #Stop one dimension \n",
    "    if (2**nn > Nx):\n",
    "        checkersx= 1\n",
    "    else:\n",
    "        checkersx= checkers\n",
    "        \n",
    "    if (2**nn > Ny):\n",
    "        checkersy= 1\n",
    "    else:\n",
    "        checkersy= checkers\n",
    "    \n",
    "    ## Random number to decide whether +ve or -ve checker comes first\n",
    "    if Ny == 1:\n",
    "        c=0\n",
    "    else:\n",
    "        c=np.ceil(np.random.rand()*2)\n",
    "        \n",
    "    d=np.ceil(np.random.rand()*2)\n",
    "    \n",
    "    for i in range(checkersx):\n",
    "        for j in range(checkersy):\n",
    "            bz[j*Ny//checkersy:(j+1)*Ny//checkersy,i*Nx//checkersx:(i+1)*Nx//checkersx,0] += np.power(-1,i+c)*np.power(-1,j+d)*field_strength\n",
    "\n",
    "## Plot\n",
    "if Ny > 1:\n",
    "    dplt.plt.imshow(bz[:,:,0])\n",
    "    dplt.plt.colorbar()\n",
    "else:\n",
    "    dplt.plt.plot(bz[0,:,0])\n",
    "\n",
    "## And FInally save\n",
    "(np.tile(bz*inv4pi,(1,1,Nz)).ravel().astype(np.single)).tofile(out_dir+'3D/result_prim_5.' + str(iter).zfill(6))\n",
    "\n",
    "print(bz[:,:].mean())"
   ]
  },
  {
   "cell_type": "code",
   "execution_count": 55,
   "metadata": {},
   "outputs": [],
   "source": [
    "## Constant horizontal (By) field in gauss\n",
    "\n",
    "field_strength = 0\n",
    "\n",
    "(np.tile(field_strength*inv4pi,(Ny,Nx,Nz)).ravel().astype(np.single)).tofile(out_dir+'3D/result_prim_7.' + str(iter).zfill(6))"
   ]
  },
  {
   "cell_type": "code",
   "execution_count": null,
   "metadata": {},
   "outputs": [],
   "source": [
    "## Constant vertical field in gauss (Bz)\n",
    "\n",
    "field_strength = 20\n",
    "\n",
    "(np.tile(field_strength*inv4pi,(Ny,Nx,1)).ravel().astype(np.single)).tofile(out_dir+'3D/result_prim_5.' + str(iter).zfill(6))"
   ]
  },
  {
   "cell_type": "code",
   "execution_count": null,
   "metadata": {},
   "outputs": [],
   "source": [
    "## Random Field for SSD\n",
    "\n",
    "## Will give a field with RMS ~1.0e-3 G, constant in vertical direction, random in horizontal direction\n",
    "a=(np.random.rand(Ny,Nx,1)-0.5)*3.5e-3\n",
    "np.sqrt((a*a).mean())\n",
    "(np.tile(a*inv4pi,(1,1,Nz)).ravel().astype(np.single)).tofile(out_dir+'3D/result_prim_5.' + str(iter).zfill(6))"
   ]
  }
 ],
 "metadata": {
  "kernelspec": {
   "display_name": "Python 3",
   "language": "python",
   "name": "python3"
  },
  "language_info": {
   "codemirror_mode": {
    "name": "ipython",
    "version": 3
   },
   "file_extension": ".py",
   "mimetype": "text/x-python",
   "name": "python",
   "nbconvert_exporter": "python",
   "pygments_lexer": "ipython3",
   "version": "3.6.4"
  }
 },
 "nbformat": 4,
 "nbformat_minor": 2
}
