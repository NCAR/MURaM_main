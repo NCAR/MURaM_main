{
 "cells": [
  {
   "cell_type": "code",
   "execution_count": 1,
   "metadata": {},
   "outputs": [
    {
     "name": "stdout",
     "output_type": "stream",
     "text": [
      "Importing read_muram.py\n",
      "Importing dp_plot_tools.py\n",
      "Importing muram_eos.py\n"
     ]
    }
   ],
   "source": [
    "import read_muram as rmu\n",
    "import dp_plot_tools as dplt\n",
    "import muram_eos as eos\n",
    "import numpy as np"
   ]
  },
  {
   "cell_type": "code",
   "execution_count": 2,
   "metadata": {},
   "outputs": [],
   "source": [
    "## Load the EOS file\n",
    "eos_file = \"../RUNDIR/Uppsala_mergedeos_PI_A.dat\"\n",
    "mu_eos=eos.mu_eos(eos_file)"
   ]
  },
  {
   "cell_type": "code",
   "execution_count": 3,
   "metadata": {},
   "outputs": [],
   "source": [
    "## Set the simulation size and range\n",
    "## Iteration number\n",
    "\n",
    "iter = 0\n",
    "\n",
    "## Nz = vertical direction (dimension 0 in MURaM)\n",
    "## Nx = first horizontal direction (set = 1 for 1D)\n",
    "## Ny = second horizontal direection (set = 1 for 2D or 1D)\n",
    "\n",
    "Nz = 400\n",
    "Nx = 2400\n",
    "Ny = 1\n",
    "\n",
    "## z_box_top = the top height above the surface in Mm\n",
    "## z_box_range = the vertical extend in Mm\n",
    "\n",
    "z_box_top = 1.0\n",
    "z_box_range = 4.0\n",
    "\n",
    "x_box_range = 24.0\n",
    "y_box_range = 24.0\n",
    "\n",
    "dz = z_box_range/Nz\n",
    "dx = x_box_range/Nx\n",
    "dy = y_box_range/Ny\n",
    "## Output Directory\n",
    "\n",
    "out_dir = \"/ptmp/damp/2D_SCATTER_TESTS/initial_convection/\""
   ]
  },
  {
   "cell_type": "code",
   "execution_count": 4,
   "metadata": {},
   "outputs": [],
   "source": [
    "## Load the SSM Background\n",
    "N_SSM = 2480\n",
    "z_SSM = -1.0e-6*np.loadtxt('tables/R_SSM.dat',dtype=np.float).ravel()[::-1]\n",
    "r_SSM = np.loadtxt('tables/rho_SSM.dat',dtype=np.float).ravel()[::-1]\n",
    "t_SSM = np.loadtxt('tables/T_SSM.dat',dtype=np.float).ravel()[::-1]\n",
    "p_SSM = np.loadtxt('tables/P_SSM.dat',dtype=np.float).ravel()[::-1]"
   ]
  },
  {
   "cell_type": "code",
   "execution_count": 5,
   "metadata": {},
   "outputs": [],
   "source": [
    "## bkg values\n",
    "z_bkg = z_box_top-((Nz-1)-np.arange(Nz,dtype=np.float))*np.float(z_box_range)/np.float(Nz)\n",
    "\n",
    "## Interpolate for rho, pressure and density\n",
    "r_bkg = np.exp(np.interp(z_bkg,z_SSM,np.log(r_SSM)))\n",
    "p_bkg = np.exp(np.interp(z_bkg,z_SSM,np.log(p_SSM)))\n",
    "t_bkg = np.exp(np.interp(z_bkg,z_SSM,np.log(t_SSM)))\n",
    "\n",
    "## Above the SSM use an isothermal, constant pressure scale height extrapolation\n",
    "\n",
    "r0 = r_SSM[-1]\n",
    "p0 = p_SSM[-1]\n",
    "t0 = t_SSM[-1]\n",
    "z0 = z_SSM[-1]\n",
    "H0 = p0/r0/2.74e4\n",
    "\n",
    "for kk in range(Nz):\n",
    "    if(z_bkg[kk]> z_SSM[-1]):\n",
    "      r_bkg[kk] = r0*np.exp((z0-z_bkg[kk])*1.0e8/H0)\n",
    "      p_bkg[kk] = p0*np.exp((z0-z_bkg[kk])*1.0e8/H0)\n",
    "      t_bkg[kk] = t0\n",
    "\n",
    "## Invert temperature table for internal energy\n",
    "e_bkg=np.zeros(Nz)\n",
    "for ii in range(Nz):\n",
    "    T_array = mu_eos.interp_T(np.exp(mu_eos.xeps)-mu_eos.eps_off,np.tile(r_bkg[ii],mu_eos.n_eps))\n",
    "    Tisnan = np.isnan(T_array)\n",
    "    e_bkg[ii]= np.exp(np.interp(t_bkg[ii],T_array[~Tisnan],mu_eos.xeps[~Tisnan]))-mu_eos.eps_off\n",
    "    \n",
    "    \n",
    "s_bkg = mu_eos.interp_s(e_bkg,r_bkg)"
   ]
  },
  {
   "cell_type": "code",
   "execution_count": 6,
   "metadata": {},
   "outputs": [],
   "source": [
    "## Bottom boundary conditions\n",
    "zstag= z_bkg[0]-0.5*z_box_range/np.float(Nz)\n",
    "\n",
    "rbc  = np.exp(np.interp(zstag,z_SSM,np.log(r_SSM)))\n",
    "pbc  = np.exp(np.interp(zstag,z_SSM,np.log(p_SSM)))\n",
    "Tbc  = np.exp(np.interp(zstag,z_SSM,np.log(t_SSM)))"
   ]
  },
  {
   "cell_type": "code",
   "execution_count": 8,
   "metadata": {},
   "outputs": [],
   "source": [
    "## Now write output result_prim files\n",
    "\n",
    "#Density\n",
    "(np.tile(r_bkg,(Ny,Nx,1)).ravel().astype(np.single)).tofile(out_dir+'3D/result_prim_0.'+str(iter).zfill(6))\n",
    "#Velocities\n",
    "(2.0e2*(np.random.rand(Nx*Ny*Nz)-0.5).astype(np.single)).tofile(out_dir+'3D/result_prim_1.'+str(iter).zfill(6))\n",
    "(2.0e2*(np.random.rand(Nx*Ny*Nz)-0.5).astype(np.single)).tofile(out_dir+'3D/result_prim_2.'+str(iter).zfill(6))\n",
    "(2.0e2*(np.random.rand(Nx*Ny*Nz)-0.5).astype(np.single)).tofile(out_dir+'3D/result_prim_3.'+str(iter).zfill(6))\n",
    "# Internal Energy\n",
    "(np.tile(e_bkg*r_bkg,(Ny,Nx,1)).ravel().astype(np.single)).tofile(out_dir+'3D/result_prim_4.'+str(iter).zfill(6))\n",
    "# Magnetic Fields\n",
    "np.zeros(Nx*Ny*Nz,dtype=np.single).tofile(out_dir+'3D/result_prim_5.'+str(iter).zfill(6))\n",
    "np.zeros(Nx*Ny*Nz,dtype=np.single).tofile(out_dir+'3D/result_prim_6.'+str(iter).zfill(6))\n",
    "np.zeros(Nx*Ny*Nz,dtype=np.single).tofile(out_dir+'3D/result_prim_7.'+str(iter).zfill(6))\n",
    "# Heat Flux\n",
    "np.zeros(Nx*Ny*Nz,dtype=np.single).tofile(out_dir+'3D/result_prim_8.'+str(iter).zfill(6))\n",
    "\n",
    "# Header\n",
    "f=open(out_dir + '3D/Header.'+str(iter).zfill(6),'w')\n",
    "f.write(str(np.int(Nz)) + \"  \" + str(np.int(Nx)) + \"  \" + str(np.int(Ny)) + \"  \" + str(np.single(dz)) + \"  \" + str(np.single(dx)) + \"  \" + str(np.single(dy)) + \" \" + str(np.single(0))  + \" \" + str(np.single(0)) + \" \" + str(np.single(2.99792458e10)))\n",
    "f.close()\n",
    "\n",
    "#Backup.dat\n",
    "f=open(out_dir + 'backup.dat','w')\n",
    "f.write(str(np.int(0)) + \"  \" + str(np.int(0)) + \"  \" + str(np.single(pbc)) + \"  \" + str(np.single(s_bkg[0])) + \"  \" + str(np.single(r_bkg.sum()*Nx*Ny)))\n",
    "f.close()"
   ]
  },
  {
   "cell_type": "code",
   "execution_count": 9,
   "metadata": {},
   "outputs": [
    {
     "data": {
      "text/plain": [
       "2.6843044126214637e-11"
      ]
     },
     "execution_count": 9,
     "metadata": {},
     "output_type": "execute_result"
    }
   ],
   "source": [
    "r_bkg.min()"
   ]
  },
  {
   "cell_type": "code",
   "execution_count": null,
   "metadata": {},
   "outputs": [],
   "source": []
  }
 ],
 "metadata": {
  "kernelspec": {
   "display_name": "Python 3",
   "language": "python",
   "name": "python3"
  },
  "language_info": {
   "codemirror_mode": {
    "name": "ipython",
    "version": 3
   },
   "file_extension": ".py",
   "mimetype": "text/x-python",
   "name": "python",
   "nbconvert_exporter": "python",
   "pygments_lexer": "ipython3",
   "version": "3.6.4"
  }
 },
 "nbformat": 4,
 "nbformat_minor": 2
}
